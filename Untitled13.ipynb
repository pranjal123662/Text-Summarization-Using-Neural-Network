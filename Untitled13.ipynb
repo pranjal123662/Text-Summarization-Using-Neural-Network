{
  "nbformat": 4,
  "nbformat_minor": 0,
  "metadata": {
    "colab": {
      "name": "Untitled13.ipynb",
      "provenance": []
    },
    "kernelspec": {
      "name": "python3",
      "display_name": "Python 3"
    }
  },
  "cells": [
    {
      "cell_type": "code",
      "metadata": {
        "id": "a9q2-jqcsOiR"
      },
      "source": [
        "import os\r\n",
        "os.environ['KAGGLE_USERNAME']=\"ghfg345\"\r\n",
        "os.environ['KAGGLE_KEY']=\"b14d17514434e4d1c1168803520e2b61\"\r\n",
        "!kaggle competitions download \r\n"
      ],
      "execution_count": null,
      "outputs": []
    },
    {
      "cell_type": "code",
      "metadata": {
        "id": "JwjeI48dtOka"
      },
      "source": [
        "file_name='/content/train.zip'\r\n",
        "with ZipFile(file_name,'r') as zip:\r\n",
        "  zip.extractall()\r\n",
        "  print('done')"
      ],
      "execution_count": null,
      "outputs": []
    },
    {
      "cell_type": "code",
      "metadata": {
        "id": "iSMW-aLFtUYY"
      },
      "source": [
        "#print(data_dir_list)\r\n",
        "\r\n",
        "path, dirs, files = next(os.walk(\"/content/train\"))\r\n",
        "file_count = len(files)\r\n",
        "print(file_count)"
      ],
      "execution_count": null,
      "outputs": []
    }
  ]
}